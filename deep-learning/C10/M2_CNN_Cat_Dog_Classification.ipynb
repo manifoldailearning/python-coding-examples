{
  "cells": [
    {
      "cell_type": "code",
      "execution_count": null,
      "metadata": {
        "colab": {
          "base_uri": "https://localhost:8080/"
        },
        "id": "EpqacMehR5LF",
        "outputId": "5466f522-f815-4929-f62a-2912b101e54e"
      },
      "outputs": [
        {
          "name": "stdout",
          "output_type": "stream",
          "text": [
            "--2024-04-14 04:17:24--  https://www.dropbox.com/s/h16vq9rab1itifs/CatDog.zip\n",
            "Resolving www.dropbox.com (www.dropbox.com)... 162.125.5.18, 2620:100:601d:18::a27d:512\n",
            "Connecting to www.dropbox.com (www.dropbox.com)|162.125.5.18|:443... connected.\n",
            "HTTP request sent, awaiting response... 302 Found\n",
            "Location: /s/raw/h16vq9rab1itifs/CatDog.zip [following]\n",
            "--2024-04-14 04:17:24--  https://www.dropbox.com/s/raw/h16vq9rab1itifs/CatDog.zip\n",
            "Reusing existing connection to www.dropbox.com:443.\n",
            "HTTP request sent, awaiting response... 302 Found\n",
            "Location: https://uce8ac034be324b2045a137340f7.dl.dropboxusercontent.com/cd/0/inline/CQ9XyTWDBrRW4FTlfZf1D2ie5K7J1hQ3-2rSVM8ObpthVR471RgT8zr8l8Q4VFyeHqxyGlcqOyajIf-03tBPQcV7JhxhP7otapmpY5UZP93er8tY1maKQO8ArMOtQwpJ_xGy1oBZsh0GKya-skhCFis3/file# [following]\n",
            "--2024-04-14 04:17:25--  https://uce8ac034be324b2045a137340f7.dl.dropboxusercontent.com/cd/0/inline/CQ9XyTWDBrRW4FTlfZf1D2ie5K7J1hQ3-2rSVM8ObpthVR471RgT8zr8l8Q4VFyeHqxyGlcqOyajIf-03tBPQcV7JhxhP7otapmpY5UZP93er8tY1maKQO8ArMOtQwpJ_xGy1oBZsh0GKya-skhCFis3/file\n",
            "Resolving uce8ac034be324b2045a137340f7.dl.dropboxusercontent.com (uce8ac034be324b2045a137340f7.dl.dropboxusercontent.com)... 162.125.5.15, 2620:100:601d:15::a27d:50f\n",
            "Connecting to uce8ac034be324b2045a137340f7.dl.dropboxusercontent.com (uce8ac034be324b2045a137340f7.dl.dropboxusercontent.com)|162.125.5.15|:443... connected.\n",
            "HTTP request sent, awaiting response... 302 Found\n",
            "Location: /cd/0/inline2/CQ80Orsyp4RrN8cfpSV1tLDrnFt6L6yRGZ4EXFTPiMcJKJzdWIAqtUB2lVu0GWocqB5d1p2JDuKg4Dz_kvL4Hue8XXPZ9niQyFKbUSqilyuXS-ktT7T747LCWaMZYby7OPPsANOu8LJdNvfbc3cMBDoA-wlVq21TXUUsguw87WLUUZA1U8uq0JuEZIogDmlZTM_rH3e2peUnMJo7e3TntQP4EnikoAYQCNfssSga1m2vHQeVQ-lYnZn0OuVCNc4mLCUKu9lBZuDFjA79cX4URFkmSk297E-8Y1bF5Gna5rmwTnVPi8ytAMtOrbdKgQ9sQuxF3FPc7CYlzfo9g03MidD8IEAzcPb1rakJjab1e5bYQyrsDBVfL7OXq3Sj8yC-GwE/file [following]\n",
            "--2024-04-14 04:17:25--  https://uce8ac034be324b2045a137340f7.dl.dropboxusercontent.com/cd/0/inline2/CQ80Orsyp4RrN8cfpSV1tLDrnFt6L6yRGZ4EXFTPiMcJKJzdWIAqtUB2lVu0GWocqB5d1p2JDuKg4Dz_kvL4Hue8XXPZ9niQyFKbUSqilyuXS-ktT7T747LCWaMZYby7OPPsANOu8LJdNvfbc3cMBDoA-wlVq21TXUUsguw87WLUUZA1U8uq0JuEZIogDmlZTM_rH3e2peUnMJo7e3TntQP4EnikoAYQCNfssSga1m2vHQeVQ-lYnZn0OuVCNc4mLCUKu9lBZuDFjA79cX4URFkmSk297E-8Y1bF5Gna5rmwTnVPi8ytAMtOrbdKgQ9sQuxF3FPc7CYlzfo9g03MidD8IEAzcPb1rakJjab1e5bYQyrsDBVfL7OXq3Sj8yC-GwE/file\n",
            "Reusing existing connection to uce8ac034be324b2045a137340f7.dl.dropboxusercontent.com:443.\n",
            "HTTP request sent, awaiting response... 200 OK\n",
            "Length: 228083550 (218M) [application/zip]\n",
            "Saving to: ‘CatDog.zip’\n",
            "\n",
            "CatDog.zip           33%[=====>              ]  73.88M  73.4MB/s               "
          ]
        }
      ],
      "source": [
        "!wget https://www.dropbox.com/s/h16vq9rab1itifs/CatDog.zip"
      ]
    },
    {
      "cell_type": "code",
      "execution_count": null,
      "metadata": {
        "colab": {
          "background_save": true
        },
        "id": "oAg283d3Su-g"
      },
      "outputs": [],
      "source": [
        "!unzip CatDog.zip\n",
        "!rm CatDog.zip"
      ]
    },
    {
      "cell_type": "markdown",
      "metadata": {
        "id": "uckPJB6kTDvW"
      },
      "source": [
        "# Imports"
      ]
    },
    {
      "cell_type": "code",
      "execution_count": null,
      "metadata": {
        "id": "VcG0gVwTSy61"
      },
      "outputs": [],
      "source": [
        "import os\n",
        "import numpy as np\n",
        "import seaborn as sns\n",
        "import matplotlib.pyplot as plt\n",
        "import tensorflow as tf\n",
        "from tensorflow.keras.models import Sequential\n",
        "import shutil"
      ]
    },
    {
      "cell_type": "code",
      "execution_count": null,
      "metadata": {
        "id": "12FGFcEbTa4I"
      },
      "outputs": [],
      "source": [
        "TRAIN_DIR = \"/content/training_set/training_set\"\n",
        "d = {'cats':0,'dogs':0}\n",
        "\n",
        "for dir in os.listdir(TRAIN_DIR):\n",
        "  path = os.path.join(TRAIN_DIR,dir)\n",
        "  d[dir] = len(os.listdir(path))\n",
        "  print(f\"path is {path}, and there are {d[dir]} images in {dir} folder\")"
      ]
    },
    {
      "cell_type": "code",
      "execution_count": null,
      "metadata": {
        "id": "k0RINgnuUfE9"
      },
      "outputs": [],
      "source": [
        "d"
      ]
    },
    {
      "cell_type": "code",
      "execution_count": null,
      "metadata": {
        "id": "8l9e06k4UfYv"
      },
      "outputs": [],
      "source": [
        "img = \"/content/training_set/training_set/dogs/dog.1004.jpg\"\n",
        "from skimage.io import imshow\n",
        "imshow(img)\n",
        "plt.show()"
      ]
    },
    {
      "cell_type": "code",
      "execution_count": null,
      "metadata": {
        "id": "vi1PjjsEUzT7"
      },
      "outputs": [],
      "source": [
        "dirs = ['train','test','val']\n",
        "ROOT_DIR ='./data_dir'\n",
        "\n",
        "if not os.path.exists(ROOT_DIR):\n",
        "  for d in dirs:\n",
        "    os.makedirs(os.path.join(ROOT_DIR,d))"
      ]
    },
    {
      "cell_type": "code",
      "execution_count": null,
      "metadata": {
        "id": "nD_ZOc7UVfM3"
      },
      "outputs": [],
      "source": [
        "for dir in os.listdir(TRAIN_DIR):\n",
        "  de = os.path.join(ROOT_DIR,'train',dir)\n",
        "  os.mkdir(de)\n",
        "  for img in np.random.choice( os.listdir(os.path.join(TRAIN_DIR, dir)),  int(len(os.listdir(os.path.join(TRAIN_DIR, dir)))*0.7) , replace= False ) :\n",
        "    org = os.path.join(TRAIN_DIR, dir,img)\n",
        "    dest = os.path.join(de,img)\n",
        "    shutil.copyfile(org, dest )\n",
        "    os.remove(org)"
      ]
    },
    {
      "cell_type": "code",
      "execution_count": null,
      "metadata": {
        "id": "_MPCtzP_XJwA"
      },
      "outputs": [],
      "source": [
        "for dir in os.listdir(TRAIN_DIR):\n",
        "  de = os.path.join(ROOT_DIR,\"val\",dir)\n",
        "  os.mkdir(de)\n",
        "  for img in np.random.choice( os.listdir(os.path.join(TRAIN_DIR, dir)),  int(len(os.listdir(os.path.join(TRAIN_DIR, dir)))*0.5) , replace= False ) :\n",
        "    org = os.path.join(TRAIN_DIR, dir,img)\n",
        "    dest = os.path.join(de,img)\n",
        "\n",
        "    shutil.copyfile(org, dest )\n",
        "    os.remove(org)"
      ]
    },
    {
      "cell_type": "code",
      "execution_count": null,
      "metadata": {
        "id": "7S5qajEFXOpX"
      },
      "outputs": [],
      "source": [
        "for dir in os.listdir(TRAIN_DIR):\n",
        "  de = os.path.join(ROOT_DIR,\"test\",dir)\n",
        "  os.mkdir(de)\n",
        "  for img in np.random.choice( os.listdir(os.path.join(TRAIN_DIR, dir)),  int(len(os.listdir(os.path.join(TRAIN_DIR, dir)))), replace= False ) :\n",
        "    org = os.path.join(TRAIN_DIR, dir,img)\n",
        "    dest = os.path.join(de,img)\n",
        "\n",
        "    shutil.copyfile(org, dest )\n",
        "    os.remove(org)"
      ]
    },
    {
      "cell_type": "code",
      "execution_count": null,
      "metadata": {
        "id": "-B2ufXFaXdFP"
      },
      "outputs": [],
      "source": [
        "from tensorflow.keras.preprocessing.image import ImageDataGenerator"
      ]
    },
    {
      "cell_type": "code",
      "execution_count": null,
      "metadata": {
        "id": "Z19xDjEQYyIv"
      },
      "outputs": [],
      "source": [
        "traindatagen = ImageDataGenerator(rescale = 1.0/255,\n",
        "                                  rotation_range=0.3,\n",
        "                                  zoom_range=0.2,\n",
        "                                  horizontal_flip=True,\n",
        "                                  vertical_flip=True)"
      ]
    },
    {
      "cell_type": "code",
      "execution_count": null,
      "metadata": {
        "id": "7Oi6pT9pZFiQ"
      },
      "outputs": [],
      "source": [
        "train_data = traindatagen.flow_from_directory(directory=\"/content/data_dir/train\" , class_mode='binary', target_size=(224,224))"
      ]
    },
    {
      "cell_type": "code",
      "execution_count": null,
      "metadata": {
        "id": "oTbdGeg4ZbX_"
      },
      "outputs": [],
      "source": [
        "valdatagen = ImageDataGenerator(rescale = 1.0/255)\n",
        "val_data = valdatagen.flow_from_directory(directory=\"/content/data_dir/val\" , class_mode='binary', target_size=(224,224))"
      ]
    },
    {
      "cell_type": "code",
      "execution_count": null,
      "metadata": {
        "id": "O_mkLw6xaEVt"
      },
      "outputs": [],
      "source": [
        "testdatagen = ImageDataGenerator(rescale = 1.0/255)\n",
        "test_data = testdatagen.flow_from_directory(directory=\"/content/data_dir/test\" , class_mode='binary', target_size=(224,224))"
      ]
    },
    {
      "cell_type": "code",
      "execution_count": null,
      "metadata": {
        "id": "Q-KoyMnMgLrR"
      },
      "outputs": [],
      "source": [
        "train_data.class_indices"
      ]
    },
    {
      "cell_type": "code",
      "execution_count": null,
      "metadata": {
        "id": "jsxrFQrYgQef"
      },
      "outputs": [],
      "source": [
        "CLASS_IDX = {j:i for i,j in train_data.class_indices.items()}\n",
        "CLASS_IDX"
      ]
    },
    {
      "cell_type": "markdown",
      "metadata": {
        "id": "5l1fPsS_gmRp"
      },
      "source": [
        "# Build the Model"
      ]
    },
    {
      "cell_type": "code",
      "execution_count": null,
      "metadata": {
        "id": "pn7y_8kPgx4t"
      },
      "outputs": [],
      "source": [
        "from tensorflow.keras.layers import Conv2D,MaxPool2D,Dropout,Flatten,Dense"
      ]
    },
    {
      "cell_type": "code",
      "execution_count": null,
      "metadata": {
        "id": "2WlwcSongi-t"
      },
      "outputs": [],
      "source": [
        "from logging import Filterer\n",
        "model = Sequential()\n",
        "model.add(Conv2D(filters=16,kernel_size=(3,3), activation='relu', input_shape=(224,224,3) ))\n",
        "model.add(Conv2D(filters=32, kernel_size=(3,3), activation='relu'))\n",
        "model.add(MaxPool2D(pool_size=(2,2)))\n",
        "\n",
        "model.add(Conv2D(filters=64, kernel_size=(3,3), activation='relu'))\n",
        "model.add(MaxPool2D(pool_size=(2,2)))\n",
        "\n",
        "model.add(Conv2D(filters=128, kernel_size=(3,3), activation='relu'))\n",
        "model.add(MaxPool2D(pool_size=(2,2)))\n",
        "\n",
        "model.add(Dropout(rate=0.25))\n",
        "\n",
        "model.add(Flatten())\n",
        "\n",
        "model.add(Dense(units=64, activation='relu'))\n",
        "model.add(Dropout(rate=0.25))\n",
        "\n",
        "model.add(Dense(units=1, activation='sigmoid'))\n",
        "\n",
        "model.summary()"
      ]
    },
    {
      "cell_type": "code",
      "execution_count": null,
      "metadata": {
        "id": "c0LEFDoghNQ2"
      },
      "outputs": [],
      "source": [
        "26*26*128"
      ]
    },
    {
      "cell_type": "code",
      "execution_count": null,
      "metadata": {
        "id": "-k0HWJmNixI0"
      },
      "outputs": [],
      "source": [
        "model.compile(loss=tf.keras.losses.BinaryCrossentropy(),\n",
        "              optimizer=tf.keras.optimizers.Adam(learning_rate=0.001),\n",
        "              metrics=['accuracy'])"
      ]
    },
    {
      "cell_type": "code",
      "execution_count": null,
      "metadata": {
        "id": "IZUl9QsjkorE"
      },
      "outputs": [],
      "source": [
        "from tensorflow.keras.callbacks import EarlyStopping,ModelCheckpoint"
      ]
    },
    {
      "cell_type": "code",
      "execution_count": null,
      "metadata": {
        "id": "DAI_Yp3Ujfic"
      },
      "outputs": [],
      "source": [
        "es =EarlyStopping(monitor='val_loss', min_delta=0.01, patience=5, verbose=0, mode='auto')\n",
        "mc = ModelCheckpoint(filepath='best_mode.h5', monitor='val_loss',verbose=0, save_best_only=True)"
      ]
    },
    {
      "cell_type": "code",
      "execution_count": null,
      "metadata": {
        "colab": {
          "background_save": true
        },
        "id": "quHOtTYolTU7",
        "outputId": "46b247c6-d48d-4b22-9aef-83ff9df7fc00"
      },
      "outputs": [
        {
          "name": "stdout",
          "output_type": "stream",
          "text": [
            "Epoch 1/30\n",
            "32/32 [==============================] - 221s 7s/step - loss: 0.7351 - accuracy: 0.5166 - val_loss: 0.6838 - val_accuracy: 0.5658\n",
            "Epoch 2/30\n"
          ]
        },
        {
          "name": "stderr",
          "output_type": "stream",
          "text": [
            "/usr/local/lib/python3.10/dist-packages/keras/src/engine/training.py:3103: UserWarning: You are saving your model as an HDF5 file via `model.save()`. This file format is considered legacy. We recommend using instead the native Keras format, e.g. `model.save('my_model.keras')`.\n",
            "  saving_api.save_model(\n"
          ]
        },
        {
          "name": "stdout",
          "output_type": "stream",
          "text": [
            "32/32 [==============================] - 221s 7s/step - loss: 0.6674 - accuracy: 0.5869 - val_loss: 0.6536 - val_accuracy: 0.5983\n",
            "Epoch 3/30\n",
            "32/32 [==============================] - 211s 7s/step - loss: 0.6809 - accuracy: 0.5377 - val_loss: 0.6516 - val_accuracy: 0.6117\n",
            "Epoch 4/30\n",
            "32/32 [==============================] - 209s 7s/step - loss: 0.6776 - accuracy: 0.5910 - val_loss: 0.6623 - val_accuracy: 0.6125\n",
            "Epoch 5/30\n",
            "32/32 [==============================] - 214s 7s/step - loss: 0.6632 - accuracy: 0.6113 - val_loss: 0.6581 - val_accuracy: 0.6117\n",
            "Epoch 6/30\n",
            "32/32 [==============================] - 214s 7s/step - loss: 0.6517 - accuracy: 0.6152 - val_loss: 0.6565 - val_accuracy: 0.6550\n",
            "Epoch 7/30\n",
            "32/32 [==============================] - 215s 7s/step - loss: 0.6469 - accuracy: 0.6309 - val_loss: 0.6257 - val_accuracy: 0.6483\n",
            "Epoch 8/30\n",
            "32/32 [==============================] - 222s 7s/step - loss: 0.6573 - accuracy: 0.6309 - val_loss: 0.6232 - val_accuracy: 0.6442\n",
            "Epoch 9/30\n",
            "32/32 [==============================] - 212s 7s/step - loss: 0.6290 - accuracy: 0.6322 - val_loss: 0.5878 - val_accuracy: 0.6883\n",
            "Epoch 10/30\n",
            "32/32 [==============================] - 211s 7s/step - loss: 0.6120 - accuracy: 0.6543 - val_loss: 0.6457 - val_accuracy: 0.6150\n",
            "Epoch 11/30\n",
            "32/32 [==============================] - 214s 7s/step - loss: 0.6346 - accuracy: 0.6387 - val_loss: 0.5924 - val_accuracy: 0.6842\n",
            "Epoch 12/30\n",
            "32/32 [==============================] - 214s 7s/step - loss: 0.6113 - accuracy: 0.6523 - val_loss: 0.6369 - val_accuracy: 0.6367\n",
            "Epoch 13/30\n",
            "32/32 [==============================] - 210s 7s/step - loss: 0.5993 - accuracy: 0.6784 - val_loss: 0.7011 - val_accuracy: 0.6000\n",
            "Epoch 14/30\n",
            "32/32 [==============================] - 211s 7s/step - loss: 0.6534 - accuracy: 0.6172 - val_loss: 0.6024 - val_accuracy: 0.7000\n"
          ]
        }
      ],
      "source": [
        "hist = model.fit_generator(generator=train_data,\n",
        "                           validation_data=val_data,\n",
        "                           steps_per_epoch=32,\n",
        "                           epochs=30,\n",
        "                           verbose=1,\n",
        "                           callbacks=[es,mc])"
      ]
    },
    {
      "cell_type": "markdown",
      "metadata": {
        "id": "4lazeSAQVHJ7"
      },
      "source": [
        "## Load the model"
      ]
    },
    {
      "cell_type": "code",
      "execution_count": null,
      "metadata": {
        "id": "d2oq-LAxl15k"
      },
      "outputs": [],
      "source": [
        "from tensorflow.keras.models import load_model\n",
        "best_model = load_model(\"/content/best_mode.h5\")"
      ]
    },
    {
      "cell_type": "code",
      "execution_count": null,
      "metadata": {
        "id": "aDfp-9BpnC-K"
      },
      "outputs": [],
      "source": [
        "#load the data from external file\n",
        "# convert the image into array & resize = (224,224,3)\n",
        "# Rescale into the pixel intensity range = 0 to 1\n",
        "# Addition axis for batch size\n",
        "# model.predict(new_image)"
      ]
    },
    {
      "cell_type": "code",
      "execution_count": null,
      "metadata": {
        "id": "v90JNonlnozk"
      },
      "outputs": [],
      "source": [
        "!wget https://www.dropbox.com/s/m29kun39a6ogeif/test_cat1.jpg"
      ]
    },
    {
      "cell_type": "code",
      "execution_count": null,
      "metadata": {
        "id": "22OOT6GZnpgu"
      },
      "outputs": [],
      "source": [
        "from tensorflow.keras.utils import load_img,img_to_array"
      ]
    },
    {
      "cell_type": "code",
      "execution_count": null,
      "metadata": {
        "id": "O9otF8kAqGNY"
      },
      "outputs": [],
      "source": [
        "!wget https://www.dropbox.com/s/urmijmcw3ya66o6/test%20dog.jpg"
      ]
    },
    {
      "cell_type": "code",
      "execution_count": null,
      "metadata": {
        "id": "jyrhvYACq2jU"
      },
      "outputs": [],
      "source": [
        "# !wget https://www.dropbox.com/s/urmijmcw3ya66o6/test%20dog.jpg\n",
        "pil = load_img(\"/content/cat2.jpeg\",target_size=(224,224))\n",
        "image = img_to_array(pil)\n",
        "image = image/255\n",
        "plt.imshow(image)\n",
        "plt.title(\"Input Image\")\n",
        "plt.show()\n",
        "print(\"*************************************************************\")\n",
        "image = np.expand_dims(image,axis=0)\n",
        "pred = int(model.predict(image) > 0.5)\n",
        "print(f\"Prediction from my model is {CLASS_IDX[pred]}\")"
      ]
    },
    {
      "cell_type": "code",
      "execution_count": null,
      "metadata": {
        "id": "mLerb6nNr_3j"
      },
      "outputs": [],
      "source": [
        "!wget https://www.dropbox.com/s/5syxnxil7vjaa6x/dog_test2.jpg\n",
        "pil = load_img(\"/content/dog_test2.jpg\",target_size=(224,224))\n",
        "image = img_to_array(pil)\n",
        "image = image/255\n",
        "plt.imshow(image)\n",
        "plt.title(\"Input Image\")\n",
        "plt.show()\n",
        "print(\"*************************************************************\")\n",
        "image = np.expand_dims(image,axis=0)\n",
        "pred = int(model.predict(image) > 0.5)\n",
        "print(f\"Prediction from my model is {CLASS_IDX[pred]}\")"
      ]
    },
    {
      "cell_type": "code",
      "execution_count": null,
      "metadata": {
        "id": "jLmwYxVYrKMe"
      },
      "outputs": [],
      "source": [
        "# Pre-trained Model - VGG16\n",
        "# Prepare the using VGG16"
      ]
    },
    {
      "cell_type": "markdown",
      "metadata": {
        "id": "kqad8p4jhUFO"
      },
      "source": [
        "# Training with VGG16 Model"
      ]
    },
    {
      "cell_type": "code",
      "execution_count": null,
      "metadata": {
        "id": "lpeHGB_ShW4S"
      },
      "outputs": [],
      "source": [
        "from tensorflow.keras.applications.vgg16 import VGG16"
      ]
    },
    {
      "cell_type": "code",
      "execution_count": null,
      "metadata": {
        "id": "waab-AwchZ7g"
      },
      "outputs": [],
      "source": [
        "vgg_full = VGG16(input_shape=(224,224,3), include_top=True, weights='imagenet')\n",
        "vgg_full.summary()"
      ]
    },
    {
      "cell_type": "code",
      "execution_count": null,
      "metadata": {
        "id": "3fuZKxjiLO0_"
      },
      "outputs": [],
      "source": [
        "vgg_full.get_config()"
      ]
    },
    {
      "cell_type": "code",
      "execution_count": null,
      "metadata": {
        "id": "MZZ2Gfoshty8"
      },
      "outputs": [],
      "source": [
        "vgg_partial = VGG16(input_shape=(224,224,3), include_top=False, weights='imagenet')\n",
        "vgg_partial.summary()"
      ]
    },
    {
      "cell_type": "code",
      "execution_count": null,
      "metadata": {
        "id": "g8D4DO3rL26I"
      },
      "outputs": [],
      "source": [
        "len(vgg_partial.layers)"
      ]
    },
    {
      "cell_type": "code",
      "execution_count": null,
      "metadata": {
        "id": "TjH8FXg5MH8_"
      },
      "outputs": [],
      "source": [
        "for layer in vgg_partial.layers[:15]:\n",
        "  layer.trainable = False\n",
        "\n",
        "for layer in vgg_partial.layers[15:]:\n",
        "  layer.trainable = True"
      ]
    },
    {
      "cell_type": "code",
      "execution_count": null,
      "metadata": {
        "id": "F0MsUTUpM7q9"
      },
      "outputs": [],
      "source": [
        "from tensorflow.keras.layers import Flatten,Dense,Conv2D,Dropout"
      ]
    },
    {
      "cell_type": "code",
      "execution_count": null,
      "metadata": {
        "id": "KFJ_0x_NNhTJ"
      },
      "outputs": [],
      "source": [
        "final_layer.output"
      ]
    },
    {
      "cell_type": "code",
      "execution_count": null,
      "metadata": {
        "id": "uQ4ElCzLMcc2"
      },
      "outputs": [],
      "source": [
        "final_layer = vgg_partial.layers[-1]\n",
        "x = Flatten()(final_layer.output)\n",
        "x = Dense(512,activation='relu') (x)\n",
        "x = Dropout(0.3)(x)\n",
        "x = Dense(1,activation='sigmoid')(x)"
      ]
    },
    {
      "cell_type": "code",
      "execution_count": null,
      "metadata": {
        "id": "0G44P0hgNuO3"
      },
      "outputs": [],
      "source": [
        "from tensorflow.keras.models import Model\n",
        "final_model = Model(vgg_partial.input, x)"
      ]
    },
    {
      "cell_type": "code",
      "execution_count": null,
      "metadata": {
        "id": "0AE6AFcWN6OH"
      },
      "outputs": [],
      "source": [
        "final_model.summary()"
      ]
    },
    {
      "cell_type": "code",
      "execution_count": null,
      "metadata": {
        "id": "XK-tniW-QCHH"
      },
      "outputs": [],
      "source": [
        "from tensorflow.keras.layers import GlobalMaxPool2D"
      ]
    },
    {
      "cell_type": "code",
      "execution_count": null,
      "metadata": {
        "id": "XHZEy8glPqXh"
      },
      "outputs": [],
      "source": [
        "final_layer = vgg_partial.layers[-1]\n",
        "x = GlobalMaxPool2D()(final_layer.output)\n",
        "x = Dense(512,activation='relu') (x)\n",
        "x = Dropout(0.5)(x)\n",
        "x = Dense(1,activation='sigmoid')(x)\n",
        "\n",
        "final_model = Model(vgg_partial.input, x)\n",
        "\n",
        "final_model.summary()"
      ]
    },
    {
      "cell_type": "code",
      "execution_count": null,
      "metadata": {
        "id": "56VCOgsXRIYD"
      },
      "outputs": [],
      "source": [
        "final_model.compile(loss='binary_crossentropy',\n",
        "                    optimizer = tf.keras.optimizers.SGD(learning_rate=1e-4, momentum=0.9),\n",
        "                    metrics=['accuracy'])"
      ]
    },
    {
      "cell_type": "code",
      "execution_count": null,
      "metadata": {
        "id": "sKfz0AzBQcXG"
      },
      "outputs": [],
      "source": [
        "history = final_model.fit(train_data,\n",
        "                                    steps_per_epoch=100,\n",
        "                                    epochs=10,\n",
        "                                    validation_data=val_data,\n",
        "                                    validation_steps=100,\n",
        "                                    callbacks=[mc])"
      ]
    },
    {
      "cell_type": "code",
      "execution_count": null,
      "metadata": {
        "id": "rVGmFDkYU_kz"
      },
      "outputs": [],
      "source": [
        "from tensorflow.keras.models import load_model\n",
        "from tensorflow.keras.utils import load_img,img_to_array\n",
        "best_model = load_model(\"/content/best_mode.h5\")\n",
        "\n",
        "!wget https://www.dropbox.com/s/urmijmcw3ya66o6/test%20dog.jpg\n",
        "pil = load_img(\"/content/test dog.jpg\",target_size=(224,224))\n",
        "image = img_to_array(pil)\n",
        "image = image/255\n",
        "plt.imshow(image)\n",
        "plt.title(\"Input Image\")\n",
        "plt.show()\n",
        "print(\"*************************************************************\")\n",
        "image = np.expand_dims(image,axis=0)\n",
        "pred = int(model.predict(image) > 0.5)\n",
        "print(f\"Prediction from my model is {CLASS_IDX[pred]}\")"
      ]
    },
    {
      "cell_type": "code",
      "execution_count": null,
      "metadata": {
        "id": "cVYYbnQdV2X0"
      },
      "outputs": [],
      "source": [
        "from tensorflow.keras.models import load_model\n",
        "from tensorflow.keras.utils import load_img,img_to_array\n",
        "best_model = load_model(\"/content/best_mode.h5\")\n",
        "\n",
        "pil = load_img(\"/content/dog2.jpg\",target_size=(224,224))\n",
        "image = img_to_array(pil)\n",
        "image = image/255\n",
        "plt.imshow(image)\n",
        "plt.title(\"Input Image\")\n",
        "plt.show()\n",
        "print(\"*************************************************************\")\n",
        "image = np.expand_dims(image,axis=0)\n",
        "pred = int(model.predict(image) > 0.5)\n",
        "print(f\"Prediction from my model is {CLASS_IDX[pred]}\")"
      ]
    },
    {
      "cell_type": "code",
      "execution_count": null,
      "metadata": {
        "id": "MTdzh8YSW8q4"
      },
      "outputs": [],
      "source": [
        "# Learn more on GoogleNet/Resnet - Architecture"
      ]
    },
    {
      "cell_type": "code",
      "execution_count": null,
      "metadata": {
        "id": "mdpMfgWZiF6j"
      },
      "outputs": [],
      "source": [
        "# Neural Network --> Sequential - one\n",
        "# GlobalMaxPool2D Layer\n",
        "# difference between sparse categorial vs categorial entropy"
      ]
    }
  ],
  "metadata": {
    "accelerator": "GPU",
    "colab": {
      "provenance": []
    },
    "kernelspec": {
      "display_name": "Python 3",
      "name": "python3"
    },
    "language_info": {
      "name": "python"
    }
  },
  "nbformat": 4,
  "nbformat_minor": 0
}