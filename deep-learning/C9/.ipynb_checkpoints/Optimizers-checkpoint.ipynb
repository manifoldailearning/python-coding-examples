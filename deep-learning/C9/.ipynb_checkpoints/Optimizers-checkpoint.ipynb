{
 "cells": [
  {
   "cell_type": "code",
   "execution_count": null,
   "id": "033ec418-4b72-4abe-a7d0-16a6ad5327ff",
   "metadata": {},
   "outputs": [],
   "source": [
    "# Which ones to choose?\n",
    "# SGD --> Starting point - large dataset, use other - local minima\n",
    "\n",
    "# Momentum - if SGD get struck/slow\n",
    "\n",
    "# NAG- momentum + speed\n",
    "\n",
    "# Adagrad - For sparse dataset (NLP dataset)/when some \n",
    "#           parameters requires update more than others\n",
    "\n",
    "# RMSprop - to address the rapid decrease in learning rate in Adagrad\n",
    "\n",
    "# Adadelata - if satisfying output not got from RMSprop\n",
    "\n",
    "# Adam - RMSprop and momentum (computationally expensive)"
   ]
  }
 ],
 "metadata": {
  "kernelspec": {
   "display_name": "Python 3 (ipykernel)",
   "language": "python",
   "name": "python3"
  },
  "language_info": {
   "codemirror_mode": {
    "name": "ipython",
    "version": 3
   },
   "file_extension": ".py",
   "mimetype": "text/x-python",
   "name": "python",
   "nbconvert_exporter": "python",
   "pygments_lexer": "ipython3",
   "version": "3.11.7"
  }
 },
 "nbformat": 4,
 "nbformat_minor": 5
}
